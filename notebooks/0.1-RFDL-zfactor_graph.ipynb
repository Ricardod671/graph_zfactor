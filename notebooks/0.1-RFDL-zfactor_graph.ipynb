{
 "cells": [
  {
   "cell_type": "code",
   "execution_count": 3,
   "metadata": {},
   "outputs": [
    {
     "name": "stdout",
     "output_type": "stream",
     "text": [
      "The autoreload extension is already loaded. To reload it, use:\n",
      "  %reload_ext autoreload\n"
     ]
    }
   ],
   "source": [
    "%load_ext autoreload\n",
    "%autoreload 2"
   ]
  },
  {
   "cell_type": "code",
   "execution_count": 8,
   "metadata": {},
   "outputs": [],
   "source": [
    "import pandas as pd\n",
    "import numpy as np\n",
    "import seaborn as sns\n",
    "import graph_zfactor.utils.paths\n",
    "import math"
   ]
  },
  {
   "cell_type": "markdown",
   "metadata": {},
   "source": [
    "### Implementacion of secant method"
   ]
  },
  {
   "cell_type": "code",
   "execution_count": 5,
   "metadata": {},
   "outputs": [],
   "source": [
    "def secant_method(f, x0, x1, tol=1e-4, max_iter=100):\n",
    "    \"\"\"\n",
    "    Implements the iterative method of secant for finding a root of a function.\n",
    "\n",
    "    Args:\n",
    "        f: the function to find the root of.\n",
    "        x0, x1: the initial guesses for the root.\n",
    "        tol: the tolerance for the solution.\n",
    "        max_iter: the maximum number of iterations.\n",
    "\n",
    "    Returns:\n",
    "        The approximate root of the function.\n",
    "    \"\"\"\n",
    "    for i in range(max_iter):\n",
    "        fx0 = f(x0)\n",
    "        fx1 = f(x1)\n",
    "        if abs(fx1) < tol:\n",
    "            return x1\n",
    "        x = x1 - fx1 * (x1 - x0) / (fx1 - fx0)\n",
    "        if abs(x - x1) < tol:\n",
    "            return x\n",
    "        x0, x1 = x1, x\n",
    "    raise ValueError(\"The method failed to converge.\")"
   ]
  },
  {
   "cell_type": "code",
   "execution_count": 9,
   "metadata": {},
   "outputs": [],
   "source": [
    "def z_factor(ppr,tpr):\n",
    "    ''' \n",
    "    Calculate the z factor of gas (z_factor), it is used the Dranchuk and Abou-Kassen\n",
    "    equation of state,more especifically find the root of the equuation of state with \n",
    "    the secant method.\n",
    "    \n",
    "    Args:\n",
    "        ppr (float): Pseudo reduced pressure (dimensionless).\n",
    "        tpr (float): Pseudo reduced Temperature (dimensionless).\n",
    "\n",
    "    Returns:\n",
    "        z_factor (float): Z factor of gas (dimensionless).\n",
    "     '''\n",
    "    \n",
    "    '''\n",
    "    The firts step is read the ppr and tpr \n",
    "    '''\n",
    "\n",
    "    ppr_z= ppr\n",
    "    tpr_z= tpr\n",
    "\n",
    "    '''\n",
    "    The next step is write the equation of state, and is more easy did it by parts.\n",
    "    '''\n",
    "    \n",
    "    def f(z):\n",
    "        # Constans of the equation of state.\n",
    "        A1 = 0.3265\n",
    "        A2 = -1.0700\n",
    "        A3 = -0.5339\n",
    "        A4 = 0.01569\n",
    "        A5 = -0.05165\n",
    "        A6 = 0.5475\n",
    "        A7 = -0.7361\n",
    "        A8 = 0.1844\n",
    "        A9 = 0.1056\n",
    "        A10 = 0.6134\n",
    "        A11 = 0.7210\n",
    "\n",
    "        # Writting the subequations of equation of state.\n",
    "        density_ro = 0.27 * (ppr_z / (z * tpr_z))\n",
    "        c1_tpr = A1 + (A2 / tpr_z) + (A3 / tpr_z**3) + (A4 / tpr_z**4) + (A5 / tpr_z**5)\n",
    "        c2_tpr = A6 + (A7 / tpr_z) + (A8 / tpr_z**2)\n",
    "        c3_tpr = A9 * ((A7 / tpr_z) + (A8 / tpr_z**2))\n",
    "        c4_tpr_ro = A10 * (1 + (A11 * density_ro**2)) * (density_ro**2 / tpr_z**3) * math.exp(-A11 * density_ro**2)\n",
    "\n",
    "        # Writting the equation of state.\n",
    "        funtion_fz = z - (1 + (c1_tpr * density_ro) + (c2_tpr * density_ro**2) - (c3_tpr * density_ro**5) + c4_tpr_ro)\n",
    "\n",
    "        return funtion_fz\n",
    "    \n",
    "    # Finding the root with the method of secant, in this case I select a seeds of 0.5 and 1(case of ideal gas)\n",
    "\n",
    "    root = secant_method(f,0.5,1)\n",
    "\n",
    "    return root"
   ]
  },
  {
   "cell_type": "code",
   "execution_count": 10,
   "metadata": {},
   "outputs": [
    {
     "data": {
      "text/plain": [
       "0.9983141820632608"
      ]
     },
     "execution_count": 10,
     "metadata": {},
     "output_type": "execute_result"
    }
   ],
   "source": [
    "z_factor(tpr=3.0,ppr=1)"
   ]
  }
 ],
 "metadata": {
  "kernelspec": {
   "display_name": "graph_zfactor",
   "language": "python",
   "name": "python3"
  },
  "language_info": {
   "codemirror_mode": {
    "name": "ipython",
    "version": 3
   },
   "file_extension": ".py",
   "mimetype": "text/x-python",
   "name": "python",
   "nbconvert_exporter": "python",
   "pygments_lexer": "ipython3",
   "version": "3.9.18"
  }
 },
 "nbformat": 4,
 "nbformat_minor": 2
}
