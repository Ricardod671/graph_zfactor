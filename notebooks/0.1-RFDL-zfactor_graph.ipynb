{
 "cells": [
  {
   "cell_type": "code",
   "execution_count": 3,
   "metadata": {},
   "outputs": [
    {
     "name": "stdout",
     "output_type": "stream",
     "text": [
      "The autoreload extension is already loaded. To reload it, use:\n",
      "  %reload_ext autoreload\n"
     ]
    }
   ],
   "source": [
    "%load_ext autoreload\n",
    "%autoreload 2"
   ]
  },
  {
   "cell_type": "code",
   "execution_count": 4,
   "metadata": {},
   "outputs": [],
   "source": [
    "import pandas as pd\n",
    "import numpy as np\n",
    "import seaborn as sns\n",
    "import graph_zfactor.utils.paths"
   ]
  },
  {
   "cell_type": "markdown",
   "metadata": {},
   "source": [
    "### Implementacion of secant method"
   ]
  },
  {
   "cell_type": "code",
   "execution_count": 5,
   "metadata": {},
   "outputs": [],
   "source": [
    "def secant_method(f, x0, x1, tol=1e-4, max_iter=100):\n",
    "    \"\"\"\n",
    "    Implements the iterative method of secant for finding a root of a function.\n",
    "\n",
    "    Args:\n",
    "        f: the function to find the root of.\n",
    "        x0, x1: the initial guesses for the root.\n",
    "        tol: the tolerance for the solution.\n",
    "        max_iter: the maximum number of iterations.\n",
    "\n",
    "    Returns:\n",
    "        The approximate root of the function.\n",
    "    \"\"\"\n",
    "    for i in range(max_iter):\n",
    "        fx0 = f(x0)\n",
    "        fx1 = f(x1)\n",
    "        if abs(fx1) < tol:\n",
    "            return x1\n",
    "        x = x1 - fx1 * (x1 - x0) / (fx1 - fx0)\n",
    "        if abs(x - x1) < tol:\n",
    "            return x\n",
    "        x0, x1 = x1, x\n",
    "    raise ValueError(\"The method failed to converge.\")"
   ]
  }
 ],
 "metadata": {
  "kernelspec": {
   "display_name": "graph_zfactor",
   "language": "python",
   "name": "python3"
  },
  "language_info": {
   "codemirror_mode": {
    "name": "ipython",
    "version": 3
   },
   "file_extension": ".py",
   "mimetype": "text/x-python",
   "name": "python",
   "nbconvert_exporter": "python",
   "pygments_lexer": "ipython3",
   "version": "3.9.18"
  }
 },
 "nbformat": 4,
 "nbformat_minor": 2
}
